{
 "cells": [
  {
   "cell_type": "code",
   "execution_count": 163,
   "id": "c96df4f3-7241-42e9-93f7-786a699c6ad0",
   "metadata": {},
   "outputs": [
    {
     "data": {
      "application/vnd.jupyter.widget-view+json": {
       "model_id": "ff2d12d903c44a56a0adfd20a606ad21",
       "version_major": 2,
       "version_minor": 0
      },
      "text/plain": [
       "Resolving data files:   0%|          | 0/26 [00:00<?, ?it/s]"
      ]
     },
     "metadata": {},
     "output_type": "display_data"
    },
    {
     "data": {
      "application/vnd.jupyter.widget-view+json": {
       "model_id": "b3bb4261ef2f46158c10ccede3b85c37",
       "version_major": 2,
       "version_minor": 0
      },
      "text/plain": [
       "Resolving data files:   0%|          | 0/26 [00:00<?, ?it/s]"
      ]
     },
     "metadata": {},
     "output_type": "display_data"
    }
   ],
   "source": [
    "# from re import split\n",
    "import numpy as np\n",
    "import pandas as pd\n",
    "import matplotlib.pyplot as plt\n",
    "\n",
    "\n",
    "from datasets import load_dataset\n",
    "ds_valid = load_dataset(\"mdwiratathya/ROCO-radiology\",split=\"train\")\n",
    "ds_df_valid = ds_valid.to_pandas()\n",
    "\n",
    "df_valid = pd.read_json(\"../../../autogq/roco/results/\")\n",
    "\n"
   ]
  },
  {
   "cell_type": "code",
   "execution_count": 164,
   "id": "96163199-6251-40dd-bcdd-e77c5d17d87e",
   "metadata": {},
   "outputs": [
    {
     "data": {
      "text/plain": [
       "(8176, (8179, 3))"
      ]
     },
     "execution_count": 164,
     "metadata": {},
     "output_type": "execute_result"
    }
   ],
   "source": [
    "valid_keys = set(ds_df_valid.image_id)\n",
    "len(valid_keys) , df_valid.shape"
   ]
  },
  {
   "cell_type": "code",
   "execution_count": 165,
   "id": "acd287c9-0763-4296-8fa2-b66d9a67536a",
   "metadata": {},
   "outputs": [],
   "source": [
    "df_valid =  df_valid[ df_valid[\"image_id\"].apply(lambda x : x in valid_keys)]"
   ]
  },
  {
   "cell_type": "code",
   "execution_count": 166,
   "id": "5ba59303-a4e0-4c42-ab68-907510ea61cf",
   "metadata": {},
   "outputs": [
    {
     "data": {
      "text/html": [
       "<div>\n",
       "<style scoped>\n",
       "    .dataframe tbody tr th:only-of-type {\n",
       "        vertical-align: middle;\n",
       "    }\n",
       "\n",
       "    .dataframe tbody tr th {\n",
       "        vertical-align: top;\n",
       "    }\n",
       "\n",
       "    .dataframe thead th {\n",
       "        text-align: right;\n",
       "    }\n",
       "</style>\n",
       "<table border=\"1\" class=\"dataframe\">\n",
       "  <thead>\n",
       "    <tr style=\"text-align: right;\">\n",
       "      <th></th>\n",
       "      <th>image_id</th>\n",
       "      <th>answer</th>\n",
       "      <th>question</th>\n",
       "    </tr>\n",
       "  </thead>\n",
       "  <tbody>\n",
       "    <tr>\n",
       "      <th>0</th>\n",
       "      <td>ROCO_00001</td>\n",
       "      <td>Axial MRI (coronal view).</td>\n",
       "      <td>What type of imaging modality is being used to...</td>\n",
       "    </tr>\n",
       "    <tr>\n",
       "      <th>1</th>\n",
       "      <td>ROCO_00006</td>\n",
       "      <td>Coronal plain computed tomography image showin...</td>\n",
       "      <td>What type of cancer is most likely causing the...</td>\n",
       "    </tr>\n",
       "    <tr>\n",
       "      <th>2</th>\n",
       "      <td>ROCO_00016</td>\n",
       "      <td>Axial source image from an intracranial magnet...</td>\n",
       "      <td>What is the diagnosis indicated by the abnorma...</td>\n",
       "    </tr>\n",
       "    <tr>\n",
       "      <th>3</th>\n",
       "      <td>ROCO_00025</td>\n",
       "      <td>The apical height, homogeneity, and the thickn...</td>\n",
       "      <td>What are the characteristics being evaluated i...</td>\n",
       "    </tr>\n",
       "    <tr>\n",
       "      <th>4</th>\n",
       "      <td>ROCO_00031</td>\n",
       "      <td>CTO of RCA (closure in the 2nd segment)</td>\n",
       "      <td>What procedure was performed on the Right Coro...</td>\n",
       "    </tr>\n",
       "    <tr>\n",
       "      <th>...</th>\n",
       "      <td>...</td>\n",
       "      <td>...</td>\n",
       "      <td>...</td>\n",
       "    </tr>\n",
       "    <tr>\n",
       "      <th>8174</th>\n",
       "      <td>ROCO_81771</td>\n",
       "      <td>Damus–Kaye–Stansel shunt. Oblique coronal MIP ...</td>\n",
       "      <td>What type of surgical connection is made betwe...</td>\n",
       "    </tr>\n",
       "    <tr>\n",
       "      <th>8175</th>\n",
       "      <td>ROCO_81778</td>\n",
       "      <td>MRI pelvis post-radiation, axial STIR/T2W FSE ...</td>\n",
       "      <td>What is shown on this MRI scan of the pelvis?</td>\n",
       "    </tr>\n",
       "    <tr>\n",
       "      <th>8176</th>\n",
       "      <td>ROCO_81792</td>\n",
       "      <td>Fluoroscopic image showing attempts to grab th...</td>\n",
       "      <td>Why is the plane of the biopsy forceps' jaws n...</td>\n",
       "    </tr>\n",
       "    <tr>\n",
       "      <th>8177</th>\n",
       "      <td>ROCO_81796</td>\n",
       "      <td>Positron emission tomography–computed tomograp...</td>\n",
       "      <td>Is there radionuclide accumulation in the esop...</td>\n",
       "    </tr>\n",
       "    <tr>\n",
       "      <th>8178</th>\n",
       "      <td>ROCO_81798</td>\n",
       "      <td>Cholangiography showing the metallic stent pla...</td>\n",
       "      <td>What is placed at the site of stenosis in the ...</td>\n",
       "    </tr>\n",
       "  </tbody>\n",
       "</table>\n",
       "<p>8176 rows × 3 columns</p>\n",
       "</div>"
      ],
      "text/plain": [
       "        image_id                                             answer  \\\n",
       "0     ROCO_00001                          Axial MRI (coronal view).   \n",
       "1     ROCO_00006  Coronal plain computed tomography image showin...   \n",
       "2     ROCO_00016  Axial source image from an intracranial magnet...   \n",
       "3     ROCO_00025  The apical height, homogeneity, and the thickn...   \n",
       "4     ROCO_00031            CTO of RCA (closure in the 2nd segment)   \n",
       "...          ...                                                ...   \n",
       "8174  ROCO_81771  Damus–Kaye–Stansel shunt. Oblique coronal MIP ...   \n",
       "8175  ROCO_81778  MRI pelvis post-radiation, axial STIR/T2W FSE ...   \n",
       "8176  ROCO_81792  Fluoroscopic image showing attempts to grab th...   \n",
       "8177  ROCO_81796  Positron emission tomography–computed tomograp...   \n",
       "8178  ROCO_81798  Cholangiography showing the metallic stent pla...   \n",
       "\n",
       "                                               question  \n",
       "0     What type of imaging modality is being used to...  \n",
       "1     What type of cancer is most likely causing the...  \n",
       "2     What is the diagnosis indicated by the abnorma...  \n",
       "3     What are the characteristics being evaluated i...  \n",
       "4     What procedure was performed on the Right Coro...  \n",
       "...                                                 ...  \n",
       "8174  What type of surgical connection is made betwe...  \n",
       "8175      What is shown on this MRI scan of the pelvis?  \n",
       "8176  Why is the plane of the biopsy forceps' jaws n...  \n",
       "8177  Is there radionuclide accumulation in the esop...  \n",
       "8178  What is placed at the site of stenosis in the ...  \n",
       "\n",
       "[8176 rows x 3 columns]"
      ]
     },
     "execution_count": 166,
     "metadata": {},
     "output_type": "execute_result"
    }
   ],
   "source": [
    "df_valid"
   ]
  },
  {
   "cell_type": "code",
   "execution_count": 167,
   "id": "84f53e8c-063d-4725-862d-6dcf4ab7cfb4",
   "metadata": {},
   "outputs": [],
   "source": [
    "df_valid.index = df_valid.image_id\n",
    "ds_df_valid.index = ds_df_valid.image_id"
   ]
  },
  {
   "cell_type": "code",
   "execution_count": 168,
   "id": "b87bdf3e-c31c-41ea-9db0-bebe3bdb68df",
   "metadata": {},
   "outputs": [],
   "source": [
    "valid_df = pd.concat([ds_df_valid, df_valid],axis=1)"
   ]
  },
  {
   "cell_type": "code",
   "execution_count": 169,
   "id": "70b54678-21ff-48aa-ade2-f992a10f8099",
   "metadata": {},
   "outputs": [],
   "source": [
    "valid_df.drop(columns=[\"image_id\"],inplace=True)"
   ]
  },
  {
   "cell_type": "code",
   "execution_count": 170,
   "id": "5dce8522-2a25-428f-bfe1-bb7342b691ad",
   "metadata": {},
   "outputs": [
    {
     "data": {
      "text/html": [
       "<div>\n",
       "<style scoped>\n",
       "    .dataframe tbody tr th:only-of-type {\n",
       "        vertical-align: middle;\n",
       "    }\n",
       "\n",
       "    .dataframe tbody tr th {\n",
       "        vertical-align: top;\n",
       "    }\n",
       "\n",
       "    .dataframe thead th {\n",
       "        text-align: right;\n",
       "    }\n",
       "</style>\n",
       "<table border=\"1\" class=\"dataframe\">\n",
       "  <thead>\n",
       "    <tr style=\"text-align: right;\">\n",
       "      <th></th>\n",
       "      <th>image</th>\n",
       "      <th>caption</th>\n",
       "      <th>answer</th>\n",
       "      <th>question</th>\n",
       "    </tr>\n",
       "    <tr>\n",
       "      <th>image_id</th>\n",
       "      <th></th>\n",
       "      <th></th>\n",
       "      <th></th>\n",
       "      <th></th>\n",
       "    </tr>\n",
       "  </thead>\n",
       "  <tbody>\n",
       "    <tr>\n",
       "      <th>ROCO_00001</th>\n",
       "      <td>{'bytes': b'\\xff\\xd8\\xff\\xe0\\x00\\x10JFIF\\x00\\x...</td>\n",
       "      <td>Axial MRI (coronal view).\\n</td>\n",
       "      <td>Axial MRI (coronal view).</td>\n",
       "      <td>What type of imaging modality is being used to...</td>\n",
       "    </tr>\n",
       "    <tr>\n",
       "      <th>ROCO_00006</th>\n",
       "      <td>{'bytes': b'\\xff\\xd8\\xff\\xe0\\x00\\x10JFIF\\x00\\x...</td>\n",
       "      <td>Coronal plain computed tomography image showi...</td>\n",
       "      <td>Coronal plain computed tomography image showin...</td>\n",
       "      <td>What type of cancer is most likely causing the...</td>\n",
       "    </tr>\n",
       "    <tr>\n",
       "      <th>ROCO_00016</th>\n",
       "      <td>{'bytes': b'\\xff\\xd8\\xff\\xe0\\x00\\x10JFIF\\x00\\x...</td>\n",
       "      <td>Axial source image from an intracranial magne...</td>\n",
       "      <td>Axial source image from an intracranial magnet...</td>\n",
       "      <td>What is the diagnosis indicated by the abnorma...</td>\n",
       "    </tr>\n",
       "    <tr>\n",
       "      <th>ROCO_00025</th>\n",
       "      <td>{'bytes': b'\\xff\\xd8\\xff\\xe0\\x00\\x10JFIF\\x00\\x...</td>\n",
       "      <td>The apical height, homogeneity, and the thick...</td>\n",
       "      <td>The apical height, homogeneity, and the thickn...</td>\n",
       "      <td>What are the characteristics being evaluated i...</td>\n",
       "    </tr>\n",
       "    <tr>\n",
       "      <th>ROCO_00031</th>\n",
       "      <td>{'bytes': b'\\xff\\xd8\\xff\\xe0\\x00\\x10JFIF\\x00\\x...</td>\n",
       "      <td>CTO of RCA (closure in the 2nd segment)\\n</td>\n",
       "      <td>CTO of RCA (closure in the 2nd segment)</td>\n",
       "      <td>What procedure was performed on the Right Coro...</td>\n",
       "    </tr>\n",
       "    <tr>\n",
       "      <th>...</th>\n",
       "      <td>...</td>\n",
       "      <td>...</td>\n",
       "      <td>...</td>\n",
       "      <td>...</td>\n",
       "    </tr>\n",
       "    <tr>\n",
       "      <th>ROCO_81771</th>\n",
       "      <td>{'bytes': b'\\xff\\xd8\\xff\\xe0\\x00\\x10JFIF\\x00\\x...</td>\n",
       "      <td>Damus–Kaye–Stansel shunt. Oblique coronal MIP...</td>\n",
       "      <td>Damus–Kaye–Stansel shunt. Oblique coronal MIP ...</td>\n",
       "      <td>What type of surgical connection is made betwe...</td>\n",
       "    </tr>\n",
       "    <tr>\n",
       "      <th>ROCO_81778</th>\n",
       "      <td>{'bytes': b'\\xff\\xd8\\xff\\xe0\\x00\\x10JFIF\\x00\\x...</td>\n",
       "      <td>MRI pelvis post-radiation, axial STIR/T2W FSE...</td>\n",
       "      <td>MRI pelvis post-radiation, axial STIR/T2W FSE ...</td>\n",
       "      <td>What is shown on this MRI scan of the pelvis?</td>\n",
       "    </tr>\n",
       "    <tr>\n",
       "      <th>ROCO_81792</th>\n",
       "      <td>{'bytes': b'\\xff\\xd8\\xff\\xe0\\x00\\x10JFIF\\x00\\x...</td>\n",
       "      <td>Fluoroscopic image showing attempts to grab t...</td>\n",
       "      <td>Fluoroscopic image showing attempts to grab th...</td>\n",
       "      <td>Why is the plane of the biopsy forceps' jaws n...</td>\n",
       "    </tr>\n",
       "    <tr>\n",
       "      <th>ROCO_81796</th>\n",
       "      <td>{'bytes': b'\\xff\\xd8\\xff\\xe0\\x00\\x10JFIF\\x00\\x...</td>\n",
       "      <td>Positron emission tomography–computed tomogra...</td>\n",
       "      <td>Positron emission tomography–computed tomograp...</td>\n",
       "      <td>Is there radionuclide accumulation in the esop...</td>\n",
       "    </tr>\n",
       "    <tr>\n",
       "      <th>ROCO_81798</th>\n",
       "      <td>{'bytes': b'\\xff\\xd8\\xff\\xe0\\x00\\x10JFIF\\x00\\x...</td>\n",
       "      <td>Cholangiography showing the metallic stent pl...</td>\n",
       "      <td>Cholangiography showing the metallic stent pla...</td>\n",
       "      <td>What is placed at the site of stenosis in the ...</td>\n",
       "    </tr>\n",
       "  </tbody>\n",
       "</table>\n",
       "<p>8176 rows × 4 columns</p>\n",
       "</div>"
      ],
      "text/plain": [
       "                                                        image  \\\n",
       "image_id                                                        \n",
       "ROCO_00001  {'bytes': b'\\xff\\xd8\\xff\\xe0\\x00\\x10JFIF\\x00\\x...   \n",
       "ROCO_00006  {'bytes': b'\\xff\\xd8\\xff\\xe0\\x00\\x10JFIF\\x00\\x...   \n",
       "ROCO_00016  {'bytes': b'\\xff\\xd8\\xff\\xe0\\x00\\x10JFIF\\x00\\x...   \n",
       "ROCO_00025  {'bytes': b'\\xff\\xd8\\xff\\xe0\\x00\\x10JFIF\\x00\\x...   \n",
       "ROCO_00031  {'bytes': b'\\xff\\xd8\\xff\\xe0\\x00\\x10JFIF\\x00\\x...   \n",
       "...                                                       ...   \n",
       "ROCO_81771  {'bytes': b'\\xff\\xd8\\xff\\xe0\\x00\\x10JFIF\\x00\\x...   \n",
       "ROCO_81778  {'bytes': b'\\xff\\xd8\\xff\\xe0\\x00\\x10JFIF\\x00\\x...   \n",
       "ROCO_81792  {'bytes': b'\\xff\\xd8\\xff\\xe0\\x00\\x10JFIF\\x00\\x...   \n",
       "ROCO_81796  {'bytes': b'\\xff\\xd8\\xff\\xe0\\x00\\x10JFIF\\x00\\x...   \n",
       "ROCO_81798  {'bytes': b'\\xff\\xd8\\xff\\xe0\\x00\\x10JFIF\\x00\\x...   \n",
       "\n",
       "                                                      caption  \\\n",
       "image_id                                                        \n",
       "ROCO_00001                        Axial MRI (coronal view).\\n   \n",
       "ROCO_00006   Coronal plain computed tomography image showi...   \n",
       "ROCO_00016   Axial source image from an intracranial magne...   \n",
       "ROCO_00025   The apical height, homogeneity, and the thick...   \n",
       "ROCO_00031          CTO of RCA (closure in the 2nd segment)\\n   \n",
       "...                                                       ...   \n",
       "ROCO_81771   Damus–Kaye–Stansel shunt. Oblique coronal MIP...   \n",
       "ROCO_81778   MRI pelvis post-radiation, axial STIR/T2W FSE...   \n",
       "ROCO_81792   Fluoroscopic image showing attempts to grab t...   \n",
       "ROCO_81796   Positron emission tomography–computed tomogra...   \n",
       "ROCO_81798   Cholangiography showing the metallic stent pl...   \n",
       "\n",
       "                                                       answer  \\\n",
       "image_id                                                        \n",
       "ROCO_00001                          Axial MRI (coronal view).   \n",
       "ROCO_00006  Coronal plain computed tomography image showin...   \n",
       "ROCO_00016  Axial source image from an intracranial magnet...   \n",
       "ROCO_00025  The apical height, homogeneity, and the thickn...   \n",
       "ROCO_00031            CTO of RCA (closure in the 2nd segment)   \n",
       "...                                                       ...   \n",
       "ROCO_81771  Damus–Kaye–Stansel shunt. Oblique coronal MIP ...   \n",
       "ROCO_81778  MRI pelvis post-radiation, axial STIR/T2W FSE ...   \n",
       "ROCO_81792  Fluoroscopic image showing attempts to grab th...   \n",
       "ROCO_81796  Positron emission tomography–computed tomograp...   \n",
       "ROCO_81798  Cholangiography showing the metallic stent pla...   \n",
       "\n",
       "                                                     question  \n",
       "image_id                                                       \n",
       "ROCO_00001  What type of imaging modality is being used to...  \n",
       "ROCO_00006  What type of cancer is most likely causing the...  \n",
       "ROCO_00016  What is the diagnosis indicated by the abnorma...  \n",
       "ROCO_00025  What are the characteristics being evaluated i...  \n",
       "ROCO_00031  What procedure was performed on the Right Coro...  \n",
       "...                                                       ...  \n",
       "ROCO_81771  What type of surgical connection is made betwe...  \n",
       "ROCO_81778      What is shown on this MRI scan of the pelvis?  \n",
       "ROCO_81792  Why is the plane of the biopsy forceps' jaws n...  \n",
       "ROCO_81796  Is there radionuclide accumulation in the esop...  \n",
       "ROCO_81798  What is placed at the site of stenosis in the ...  \n",
       "\n",
       "[8176 rows x 4 columns]"
      ]
     },
     "execution_count": 170,
     "metadata": {},
     "output_type": "execute_result"
    }
   ],
   "source": [
    "valid_df"
   ]
  },
  {
   "cell_type": "code",
   "execution_count": 171,
   "id": "ec3d1516-1de4-427e-8d7e-6bf1567fbce8",
   "metadata": {},
   "outputs": [
    {
     "data": {
      "text/plain": [
       "'Coronal plain computed tomography image showing multiple large tumor masses with edge enhancement inside the abdominal cavity and liver.'"
      ]
     },
     "execution_count": 171,
     "metadata": {},
     "output_type": "execute_result"
    }
   ],
   "source": [
    "valid_df[\"caption\"].values[1].split(\"\\n\")[0].strip()"
   ]
  },
  {
   "cell_type": "code",
   "execution_count": 173,
   "id": "4af4b4b8-6ae7-48cb-94b6-49047a6167bd",
   "metadata": {},
   "outputs": [
    {
     "data": {
      "text/plain": [
       "'Coronal plain computed tomography image showing multiple large tumor masses with edge enhancement inside the abdominal cavity and liver.'"
      ]
     },
     "execution_count": 173,
     "metadata": {},
     "output_type": "execute_result"
    }
   ],
   "source": [
    "valid_df[\"answer\"].values[1]"
   ]
  },
  {
   "cell_type": "code",
   "execution_count": 174,
   "id": "69b9fed7-c5e6-4b4b-b8ab-d653fe332a4f",
   "metadata": {},
   "outputs": [],
   "source": [
    "checks =  np.array([valid_df[\"caption\"].values[i].split(\"\\n\")[0].strip() == valid_df[\"answer\"].values[i] for i in range(len(valid_keys))])"
   ]
  },
  {
   "cell_type": "code",
   "execution_count": 175,
   "id": "81fc35e2-8f0d-40f3-815e-1d653e130fe0",
   "metadata": {},
   "outputs": [
    {
     "data": {
      "text/plain": [
       "True"
      ]
     },
     "execution_count": 175,
     "metadata": {},
     "output_type": "execute_result"
    }
   ],
   "source": [
    "checks.all()"
   ]
  },
  {
   "cell_type": "code",
   "execution_count": 176,
   "id": "a3c24f37-cd07-4ece-a127-bf6ca6c034da",
   "metadata": {},
   "outputs": [],
   "source": [
    "valid_df.drop(columns = \"caption\",inplace = True)"
   ]
  },
  {
   "cell_type": "code",
   "execution_count": 177,
   "id": "cdf31fb9-44ae-4416-8b87-0f6ff5926eb9",
   "metadata": {},
   "outputs": [
    {
     "data": {
      "text/html": [
       "<div>\n",
       "<style scoped>\n",
       "    .dataframe tbody tr th:only-of-type {\n",
       "        vertical-align: middle;\n",
       "    }\n",
       "\n",
       "    .dataframe tbody tr th {\n",
       "        vertical-align: top;\n",
       "    }\n",
       "\n",
       "    .dataframe thead th {\n",
       "        text-align: right;\n",
       "    }\n",
       "</style>\n",
       "<table border=\"1\" class=\"dataframe\">\n",
       "  <thead>\n",
       "    <tr style=\"text-align: right;\">\n",
       "      <th></th>\n",
       "      <th>image</th>\n",
       "      <th>answer</th>\n",
       "      <th>question</th>\n",
       "    </tr>\n",
       "    <tr>\n",
       "      <th>image_id</th>\n",
       "      <th></th>\n",
       "      <th></th>\n",
       "      <th></th>\n",
       "    </tr>\n",
       "  </thead>\n",
       "  <tbody>\n",
       "    <tr>\n",
       "      <th>ROCO_00001</th>\n",
       "      <td>{'bytes': b'\\xff\\xd8\\xff\\xe0\\x00\\x10JFIF\\x00\\x...</td>\n",
       "      <td>Axial MRI (coronal view).</td>\n",
       "      <td>What type of imaging modality is being used to...</td>\n",
       "    </tr>\n",
       "    <tr>\n",
       "      <th>ROCO_00006</th>\n",
       "      <td>{'bytes': b'\\xff\\xd8\\xff\\xe0\\x00\\x10JFIF\\x00\\x...</td>\n",
       "      <td>Coronal plain computed tomography image showin...</td>\n",
       "      <td>What type of cancer is most likely causing the...</td>\n",
       "    </tr>\n",
       "    <tr>\n",
       "      <th>ROCO_00016</th>\n",
       "      <td>{'bytes': b'\\xff\\xd8\\xff\\xe0\\x00\\x10JFIF\\x00\\x...</td>\n",
       "      <td>Axial source image from an intracranial magnet...</td>\n",
       "      <td>What is the diagnosis indicated by the abnorma...</td>\n",
       "    </tr>\n",
       "    <tr>\n",
       "      <th>ROCO_00025</th>\n",
       "      <td>{'bytes': b'\\xff\\xd8\\xff\\xe0\\x00\\x10JFIF\\x00\\x...</td>\n",
       "      <td>The apical height, homogeneity, and the thickn...</td>\n",
       "      <td>What are the characteristics being evaluated i...</td>\n",
       "    </tr>\n",
       "    <tr>\n",
       "      <th>ROCO_00031</th>\n",
       "      <td>{'bytes': b'\\xff\\xd8\\xff\\xe0\\x00\\x10JFIF\\x00\\x...</td>\n",
       "      <td>CTO of RCA (closure in the 2nd segment)</td>\n",
       "      <td>What procedure was performed on the Right Coro...</td>\n",
       "    </tr>\n",
       "    <tr>\n",
       "      <th>...</th>\n",
       "      <td>...</td>\n",
       "      <td>...</td>\n",
       "      <td>...</td>\n",
       "    </tr>\n",
       "    <tr>\n",
       "      <th>ROCO_81771</th>\n",
       "      <td>{'bytes': b'\\xff\\xd8\\xff\\xe0\\x00\\x10JFIF\\x00\\x...</td>\n",
       "      <td>Damus–Kaye–Stansel shunt. Oblique coronal MIP ...</td>\n",
       "      <td>What type of surgical connection is made betwe...</td>\n",
       "    </tr>\n",
       "    <tr>\n",
       "      <th>ROCO_81778</th>\n",
       "      <td>{'bytes': b'\\xff\\xd8\\xff\\xe0\\x00\\x10JFIF\\x00\\x...</td>\n",
       "      <td>MRI pelvis post-radiation, axial STIR/T2W FSE ...</td>\n",
       "      <td>What is shown on this MRI scan of the pelvis?</td>\n",
       "    </tr>\n",
       "    <tr>\n",
       "      <th>ROCO_81792</th>\n",
       "      <td>{'bytes': b'\\xff\\xd8\\xff\\xe0\\x00\\x10JFIF\\x00\\x...</td>\n",
       "      <td>Fluoroscopic image showing attempts to grab th...</td>\n",
       "      <td>Why is the plane of the biopsy forceps' jaws n...</td>\n",
       "    </tr>\n",
       "    <tr>\n",
       "      <th>ROCO_81796</th>\n",
       "      <td>{'bytes': b'\\xff\\xd8\\xff\\xe0\\x00\\x10JFIF\\x00\\x...</td>\n",
       "      <td>Positron emission tomography–computed tomograp...</td>\n",
       "      <td>Is there radionuclide accumulation in the esop...</td>\n",
       "    </tr>\n",
       "    <tr>\n",
       "      <th>ROCO_81798</th>\n",
       "      <td>{'bytes': b'\\xff\\xd8\\xff\\xe0\\x00\\x10JFIF\\x00\\x...</td>\n",
       "      <td>Cholangiography showing the metallic stent pla...</td>\n",
       "      <td>What is placed at the site of stenosis in the ...</td>\n",
       "    </tr>\n",
       "  </tbody>\n",
       "</table>\n",
       "<p>8176 rows × 3 columns</p>\n",
       "</div>"
      ],
      "text/plain": [
       "                                                        image  \\\n",
       "image_id                                                        \n",
       "ROCO_00001  {'bytes': b'\\xff\\xd8\\xff\\xe0\\x00\\x10JFIF\\x00\\x...   \n",
       "ROCO_00006  {'bytes': b'\\xff\\xd8\\xff\\xe0\\x00\\x10JFIF\\x00\\x...   \n",
       "ROCO_00016  {'bytes': b'\\xff\\xd8\\xff\\xe0\\x00\\x10JFIF\\x00\\x...   \n",
       "ROCO_00025  {'bytes': b'\\xff\\xd8\\xff\\xe0\\x00\\x10JFIF\\x00\\x...   \n",
       "ROCO_00031  {'bytes': b'\\xff\\xd8\\xff\\xe0\\x00\\x10JFIF\\x00\\x...   \n",
       "...                                                       ...   \n",
       "ROCO_81771  {'bytes': b'\\xff\\xd8\\xff\\xe0\\x00\\x10JFIF\\x00\\x...   \n",
       "ROCO_81778  {'bytes': b'\\xff\\xd8\\xff\\xe0\\x00\\x10JFIF\\x00\\x...   \n",
       "ROCO_81792  {'bytes': b'\\xff\\xd8\\xff\\xe0\\x00\\x10JFIF\\x00\\x...   \n",
       "ROCO_81796  {'bytes': b'\\xff\\xd8\\xff\\xe0\\x00\\x10JFIF\\x00\\x...   \n",
       "ROCO_81798  {'bytes': b'\\xff\\xd8\\xff\\xe0\\x00\\x10JFIF\\x00\\x...   \n",
       "\n",
       "                                                       answer  \\\n",
       "image_id                                                        \n",
       "ROCO_00001                          Axial MRI (coronal view).   \n",
       "ROCO_00006  Coronal plain computed tomography image showin...   \n",
       "ROCO_00016  Axial source image from an intracranial magnet...   \n",
       "ROCO_00025  The apical height, homogeneity, and the thickn...   \n",
       "ROCO_00031            CTO of RCA (closure in the 2nd segment)   \n",
       "...                                                       ...   \n",
       "ROCO_81771  Damus–Kaye–Stansel shunt. Oblique coronal MIP ...   \n",
       "ROCO_81778  MRI pelvis post-radiation, axial STIR/T2W FSE ...   \n",
       "ROCO_81792  Fluoroscopic image showing attempts to grab th...   \n",
       "ROCO_81796  Positron emission tomography–computed tomograp...   \n",
       "ROCO_81798  Cholangiography showing the metallic stent pla...   \n",
       "\n",
       "                                                     question  \n",
       "image_id                                                       \n",
       "ROCO_00001  What type of imaging modality is being used to...  \n",
       "ROCO_00006  What type of cancer is most likely causing the...  \n",
       "ROCO_00016  What is the diagnosis indicated by the abnorma...  \n",
       "ROCO_00025  What are the characteristics being evaluated i...  \n",
       "ROCO_00031  What procedure was performed on the Right Coro...  \n",
       "...                                                       ...  \n",
       "ROCO_81771  What type of surgical connection is made betwe...  \n",
       "ROCO_81778      What is shown on this MRI scan of the pelvis?  \n",
       "ROCO_81792  Why is the plane of the biopsy forceps' jaws n...  \n",
       "ROCO_81796  Is there radionuclide accumulation in the esop...  \n",
       "ROCO_81798  What is placed at the site of stenosis in the ...  \n",
       "\n",
       "[8176 rows x 3 columns]"
      ]
     },
     "execution_count": 177,
     "metadata": {},
     "output_type": "execute_result"
    }
   ],
   "source": [
    "valid_df"
   ]
  },
  {
   "cell_type": "code",
   "execution_count": 178,
   "id": "6fb18282-3318-4067-987d-c448d9a320de",
   "metadata": {},
   "outputs": [],
   "source": [
    "valid_df.to_csv(\"test.csv\")"
   ]
  },
  {
   "cell_type": "code",
   "execution_count": null,
   "id": "42dfc17c-bdf7-4fcd-8902-221faf426fab",
   "metadata": {},
   "outputs": [],
   "source": []
  }
 ],
 "metadata": {
  "kernelspec": {
   "display_name": "Python 3 (ipykernel)",
   "language": "python",
   "name": "python3"
  },
  "language_info": {
   "codemirror_mode": {
    "name": "ipython",
    "version": 3
   },
   "file_extension": ".py",
   "mimetype": "text/x-python",
   "name": "python",
   "nbconvert_exporter": "python",
   "pygments_lexer": "ipython3",
   "version": "3.12.4"
  }
 },
 "nbformat": 4,
 "nbformat_minor": 5
}
